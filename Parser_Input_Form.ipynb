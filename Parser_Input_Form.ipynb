{
 "cells": [
  {
   "cell_type": "markdown",
   "metadata": {},
   "source": [
    "# Parser Input Form"
   ]
  },
  {
   "cell_type": "markdown",
   "metadata": {},
   "source": [
    "### Import necessary packages"
   ]
  },
  {
   "cell_type": "code",
   "execution_count": 2,
   "metadata": {},
   "outputs": [],
   "source": [
    "import ipywidgets as ipw\n",
    "from ipywidgets import interact\n",
    "import plotly.express as px\n",
    "import voila\n",
    "import pandas as pd"
   ]
  },
  {
   "cell_type": "code",
   "execution_count": 37,
   "metadata": {},
   "outputs": [],
   "source": [
    "class BuildForm:\n",
    "    def hello_world(self):\n",
    "        print('hello world')\n",
    "\n",
    "# yep = BuildForm().hello_world()"
   ]
  },
  {
   "cell_type": "code",
   "execution_count": 38,
   "metadata": {},
   "outputs": [
    {
     "name": "stdout",
     "output_type": "stream",
     "text": [
      "hello world\n"
     ]
    }
   ],
   "source": [
    "BuildForm().hello_world()"
   ]
  },
  {
   "cell_type": "code",
   "execution_count": 2,
   "metadata": {},
   "outputs": [],
   "source": [
    "# !pip install voila"
   ]
  },
  {
   "cell_type": "code",
   "execution_count": 3,
   "metadata": {},
   "outputs": [],
   "source": [
    "# !jupyter nbextension enable --py widgetsnbextension --sys-prefix\n",
    "# !jupyter serverextension enable voila --sys-prefix"
   ]
  },
  {
   "cell_type": "code",
   "execution_count": 4,
   "metadata": {},
   "outputs": [],
   "source": [
    "# !pip install jslinks"
   ]
  },
  {
   "cell_type": "code",
   "execution_count": 5,
   "metadata": {},
   "outputs": [],
   "source": [
    "STYLE = {\"description_width\": \"initial\"}"
   ]
  },
  {
   "cell_type": "code",
   "execution_count": 6,
   "metadata": {},
   "outputs": [],
   "source": [
    "proj_names = {}"
   ]
  },
  {
   "cell_type": "code",
   "execution_count": 7,
   "metadata": {},
   "outputs": [],
   "source": [
    "def create_proj_dict(proj):\n",
    "    global proj_names\n",
    "    proj_names[proj] = \"{}\""
   ]
  },
  {
   "cell_type": "code",
   "execution_count": 8,
   "metadata": {},
   "outputs": [],
   "source": [
    "# enter_names = True\n",
    "# while enter_names:\n",
    "#     interact(create_proj_dict, proj = input(\"Enter project name: \"))\n",
    "#     print(f\"{proj_names.keys()}\")\n",
    "#     add = input(\"Add more names? y/n  \")\n",
    "#     if add == 'n':\n",
    "#         enter_names = False"
   ]
  },
  {
   "cell_type": "code",
   "execution_count": 9,
   "metadata": {},
   "outputs": [],
   "source": [
    "def add_item(text, item):\n",
    "#     global proj_namew\n",
    "    print(item)\n",
    "    for proj, inner in proj_names.items():\n",
    "        print(proj)\n",
    "        print(inner)\n",
    "        proj[text] = item\n",
    "\n",
    "    \n",
    "    "
   ]
  },
  {
   "cell_type": "code",
   "execution_count": 10,
   "metadata": {},
   "outputs": [],
   "source": [
    "# # for proj in proj_names.keys():\n",
    "\n",
    "# dilution_points = ipw.Dropdown(\n",
    "#     options=[4, 8],\n",
    "#     value=4,\n",
    "#     description=\"Dilution Points: \",\n",
    "#     style=STYLE\n",
    "# )\n",
    "# proj_list = [proj for proj in proj_names.keys()]\n",
    "# items = [ipw.Label(str(i) for i in range(2))]\n",
    "# names = ipw.HBox()\n",
    "# values = ipw.HBox([dilution_points for proj in proj_names.keys()])\n",
    "# ipw.Box(names, values)\n",
    "# # interact(add_item('points'), x=dilution_points)\n",
    "# # x = dilution_points.value\n",
    "# # dilution_points"
   ]
  },
  {
   "cell_type": "code",
   "execution_count": 11,
   "metadata": {},
   "outputs": [],
   "source": [
    "# box"
   ]
  },
  {
   "cell_type": "code",
   "execution_count": 12,
   "metadata": {},
   "outputs": [
    {
     "data": {
      "application/vnd.jupyter.widget-view+json": {
       "model_id": "0b55df565f04497a9459f912a20e253f",
       "version_major": 2,
       "version_minor": 0
      },
      "text/plain": [
       "Dropdown(description='Number of projects per Enspire file: ', options=('one', 'many'), style=DescriptionStyle(…"
      ]
     },
     "metadata": {},
     "output_type": "display_data"
    }
   ],
   "source": [
    "project_num = ipw.Dropdown(\n",
    "    options=[\"one\", \"many\"],\n",
    "    value=\"one\",\n",
    "    description=\"Number of projects per Enspire file: \",\n",
    "    style=STYLE\n",
    ")\n",
    "project_num"
   ]
  },
  {
   "cell_type": "code",
   "execution_count": 13,
   "metadata": {},
   "outputs": [
    {
     "data": {
      "application/vnd.jupyter.widget-view+json": {
       "model_id": "8491f7182793495a9526a5868b3985b9",
       "version_major": 2,
       "version_minor": 0
      },
      "text/plain": [
       "Dropdown(description='Was standard curve added? ', options=('Yes', 'No'), style=DescriptionStyle(description_w…"
      ]
     },
     "metadata": {},
     "output_type": "display_data"
    }
   ],
   "source": [
    "standard = ipw.Dropdown(\n",
    "    options=[\"Yes\", \"No\"],\n",
    "    value=\"Yes\",\n",
    "    description=\"Was standard curve added? \",\n",
    "    style=STYLE\n",
    ")\n",
    "standard"
   ]
  },
  {
   "cell_type": "code",
   "execution_count": 14,
   "metadata": {},
   "outputs": [
    {
     "data": {
      "application/vnd.jupyter.widget-view+json": {
       "model_id": "83618472235442d1881e046979324276",
       "version_major": 2,
       "version_minor": 0
      },
      "text/plain": [
       "Text(value='', description='Enter plates for SSFTest: ', placeholder='e.g. 1-1, 1-2, 2...', style=DescriptionS…"
      ]
     },
     "metadata": {},
     "output_type": "display_data"
    }
   ],
   "source": [
    "proj = \"SSFTest\"\n",
    "plate_num = ipw.Text(\n",
    "    placeholder=\"e.g. 1-1, 1-2, 2...\",\n",
    "    description=f\"Enter plates for {proj}: \",\n",
    "    style=STYLE\n",
    ")\n",
    "plate_num"
   ]
  },
  {
   "cell_type": "code",
   "execution_count": 18,
   "metadata": {},
   "outputs": [],
   "source": [
    "# hitems = ipw.HBox([ipw.Label(str(i)) for i in range(1, 13)])\n",
    "# vitems = ipw.VBox([ipw.Label(str(i)) for i in range(0, 9)])\n",
    "\n",
    "# ipw.Box([vitems, hitems, cboxes])"
   ]
  },
  {
   "cell_type": "code",
   "execution_count": 19,
   "metadata": {},
   "outputs": [
    {
     "data": {
      "application/vnd.jupyter.widget-view+json": {
       "model_id": "b70b011b7a1f4a1087b0f95b9cf44c3c",
       "version_major": 2,
       "version_minor": 0
      },
      "text/plain": [
       "Button(description='Click Me!', style=ButtonStyle())"
      ]
     },
     "metadata": {},
     "output_type": "display_data"
    },
    {
     "data": {
      "application/vnd.jupyter.widget-view+json": {
       "model_id": "809f96e3c17d4bd8b397cc810625d0f9",
       "version_major": 2,
       "version_minor": 0
      },
      "text/plain": [
       "Output()"
      ]
     },
     "metadata": {},
     "output_type": "display_data"
    }
   ],
   "source": [
    "from IPython.display import display\n",
    "button = ipw.Button(description=\"Click Me!\")\n",
    "output = ipw.Output()\n",
    "\n",
    "display(button, output)\n",
    "\n",
    "def on_button_clicked(b):\n",
    "    with output:\n",
    "        print(\"Button clicked.\")\n",
    "\n",
    "button.on_click(on_button_clicked)"
   ]
  },
  {
   "cell_type": "code",
   "execution_count": 20,
   "metadata": {},
   "outputs": [
    {
     "data": {
      "application/vnd.jupyter.widget-view+json": {
       "model_id": "c9e1a181cde44398bd1be02796487139",
       "version_major": 2,
       "version_minor": 0
      },
      "text/plain": [
       "VBox(children=(Dropdown(description='Enter standard location on plate: ', options=('Row', 'Column'), style=Des…"
      ]
     },
     "metadata": {},
     "output_type": "display_data"
    },
    {
     "data": {
      "application/vnd.jupyter.widget-view+json": {
       "model_id": "7af93115a92c4d42a9858ddb56cff3f1",
       "version_major": 2,
       "version_minor": 0
      },
      "text/plain": [
       "Output()"
      ]
     },
     "metadata": {},
     "output_type": "display_data"
    }
   ],
   "source": [
    "rc = ipw.Dropdown(\n",
    "    options=[\"Row\", \"Column\"], \n",
    "    description=\"Enter standard location on plate: \", \n",
    "    value=\"Row\", \n",
    "    style=STYLE)\n",
    "letter = ipw.Dropdown(\n",
    "    options=[\"A\", \"B\", \"C\", \"D\", \"E\", \"F\", \"G\", \"H\"],\n",
    "    description=\"Choose letter/row of standard starting position: \",\n",
    "    value=\"A\",\n",
    "    style=STYLE)\n",
    "wells = ipw.IntRangeSlider(\n",
    "    value=[1, 12],\n",
    "    min=1,\n",
    "    max=12,\n",
    "    step=1, \n",
    "    description=\"Choose number of wells for one standard set:\",\n",
    "    style=STYLE)\n",
    "ui = ipw.VBox([rc, letter, wells])\n",
    "def f(rc, letter, wells):\n",
    "    \n",
    "    print(rc, letter, wells)\n",
    "out = ipw.interactive_output(f, {'rc': rc, 'letter': letter, 'wells': wells})\n",
    "\n",
    "display(ui, out)\n"
   ]
  },
  {
   "cell_type": "code",
   "execution_count": null,
   "metadata": {},
   "outputs": [],
   "source": []
  },
  {
   "cell_type": "code",
   "execution_count": 21,
   "metadata": {},
   "outputs": [
    {
     "data": {
      "application/vnd.jupyter.widget-view+json": {
       "model_id": "9258959ea73c446bb47f8b2b8bf3aefb",
       "version_major": 2,
       "version_minor": 0
      },
      "text/plain": [
       "FloatText(value=0.0)"
      ]
     },
     "metadata": {},
     "output_type": "display_data"
    },
    {
     "data": {
      "application/vnd.jupyter.widget-view+json": {
       "model_id": "33657914067946ee8517a7d3ebc2a1e6",
       "version_major": 2,
       "version_minor": 0
      },
      "text/plain": [
       "FloatSlider(value=0.0)"
      ]
     },
     "metadata": {},
     "output_type": "display_data"
    }
   ],
   "source": [
    "a = ipw.FloatText()\n",
    "b = ipw.FloatSlider()\n",
    "display(a, b)\n",
    "mylink = ipw.link((a, 'value'), (b, 'value'))"
   ]
  },
  {
   "cell_type": "code",
   "execution_count": 22,
   "metadata": {},
   "outputs": [
    {
     "data": {
      "application/vnd.jupyter.widget-view+json": {
       "model_id": "a1fc01010eb940f3bf17be31b190da3d",
       "version_major": 2,
       "version_minor": 0
      },
      "text/plain": [
       "FloatSlider(value=50.0, description='Choose a number', max=50.0, min=-50.0, readout_format='.1f', step=5.0, st…"
      ]
     },
     "metadata": {},
     "output_type": "display_data"
    }
   ],
   "source": [
    "ipw.FloatSlider(value=50,\n",
    "               min=-50,\n",
    "               max=50,\n",
    "               step=5,\n",
    "               description=\"Choose a number\",\n",
    "               style=STYLE,\n",
    "               readout=True,\n",
    "               readout_format='.1f',\n",
    "               )"
   ]
  },
  {
   "cell_type": "code",
   "execution_count": 23,
   "metadata": {},
   "outputs": [],
   "source": [
    "y = ipw.IntRangeSlider(min=1,\n",
    "                  max=12,\n",
    "                  description='Choose well range for one standard set',\n",
    "                  value=[1, 6],\n",
    "#                    style=STYLE,\n",
    "                   continuous_update=True,\n",
    "                   layout={'width': 'max-content'}\n",
    "                  )"
   ]
  },
  {
   "cell_type": "code",
   "execution_count": 24,
   "metadata": {},
   "outputs": [
    {
     "data": {
      "application/vnd.jupyter.widget-view+json": {
       "model_id": "ff6de8d99c4942ca8adfb7fc84d33764",
       "version_major": 2,
       "version_minor": 0
      },
      "text/plain": [
       "ToggleButton(value=False, button_style='info', description='Submit', tooltip='Fail')"
      ]
     },
     "metadata": {},
     "output_type": "display_data"
    }
   ],
   "source": [
    "ipw.ToggleButton(value=False,\n",
    "                description='Submit',\n",
    "                button_style='info',\n",
    "                tooltip='Fail',\n",
    "                )"
   ]
  },
  {
   "cell_type": "code",
   "execution_count": 25,
   "metadata": {},
   "outputs": [
    {
     "data": {
      "application/vnd.jupyter.widget-view+json": {
       "model_id": "befd2632f1eb4adba93d50d979a2082c",
       "version_major": 2,
       "version_minor": 0
      },
      "text/plain": [
       "Valid(value=False, description='Valid or not...')"
      ]
     },
     "metadata": {},
     "output_type": "display_data"
    }
   ],
   "source": [
    "ipw.Valid(value=False,\n",
    "         description='Valid or not...')"
   ]
  },
  {
   "cell_type": "code",
   "execution_count": 26,
   "metadata": {},
   "outputs": [
    {
     "data": {
      "application/vnd.jupyter.widget-view+json": {
       "model_id": "6e213e32eebc4889a622ca6fd406fe8f",
       "version_major": 2,
       "version_minor": 0
      },
      "text/plain": [
       "Box(children=(IntRangeSlider(value=(1, 6), description='Choose well range for one standard set', layout=Layout…"
      ]
     },
     "metadata": {},
     "output_type": "display_data"
    }
   ],
   "source": [
    "ipw.Box([y, ])"
   ]
  },
  {
   "cell_type": "code",
   "execution_count": 27,
   "metadata": {},
   "outputs": [
    {
     "data": {
      "application/vnd.jupyter.widget-view+json": {
       "model_id": "c4b2cb4d9aab40a0b9a204ad22d3ec2a",
       "version_major": 2,
       "version_minor": 0
      },
      "text/plain": [
       "HTML(value='Hello <b>World</b>')"
      ]
     },
     "metadata": {},
     "output_type": "display_data"
    }
   ],
   "source": [
    "ipw.HTML(value=\"Hello <b>World</b>\")"
   ]
  },
  {
   "cell_type": "code",
   "execution_count": 28,
   "metadata": {},
   "outputs": [],
   "source": [
    "def go(self):\n",
    "    print(\"Let's go!\")"
   ]
  },
  {
   "cell_type": "code",
   "execution_count": 29,
   "metadata": {},
   "outputs": [
    {
     "data": {
      "application/vnd.jupyter.widget-view+json": {
       "model_id": "f51d5e9f88894152ad57ad161e7c2db7",
       "version_major": 2,
       "version_minor": 0
      },
      "text/plain": [
       "VBox(children=(IntRangeSlider(value=(1, 6), description='Choose well range for one standard set', layout=Layou…"
      ]
     },
     "metadata": {},
     "output_type": "display_data"
    }
   ],
   "source": [
    "ipw.VBox([y, ipw.Button(\n",
    "    description='Click me',\n",
    "    button_style='info',\n",
    "    tooltip='Click me',\n",
    ")])\n"
   ]
  },
  {
   "cell_type": "code",
   "execution_count": 30,
   "metadata": {},
   "outputs": [
    {
     "data": {
      "application/vnd.jupyter.widget-view+json": {
       "model_id": "f09fd777d1894863956f49b3202983b1",
       "version_major": 2,
       "version_minor": 0
      },
      "text/plain": [
       "Output(layout=Layout(border='1px solid black'))"
      ]
     },
     "metadata": {},
     "output_type": "display_data"
    }
   ],
   "source": [
    "out = ipw.Output(layout={'border': '1px solid black'})\n",
    "out"
   ]
  },
  {
   "cell_type": "code",
   "execution_count": 31,
   "metadata": {},
   "outputs": [],
   "source": [
    "with out:\n",
    "    for i in range(10):\n",
    "        print(f\"{i} Hello world!\")"
   ]
  },
  {
   "cell_type": "code",
   "execution_count": 32,
   "metadata": {},
   "outputs": [],
   "source": [
    "with out:\n",
    "    display(ipw.IntSlider())"
   ]
  },
  {
   "cell_type": "code",
   "execution_count": 33,
   "metadata": {},
   "outputs": [],
   "source": [
    "out.append_stdout('Output appended with append_stdout')"
   ]
  },
  {
   "cell_type": "code",
   "execution_count": 34,
   "metadata": {},
   "outputs": [
    {
     "data": {
      "application/vnd.jupyter.widget-view+json": {
       "model_id": "40308a80c1934da488a8b01e2b99f4b9",
       "version_major": 2,
       "version_minor": 0
      },
      "text/plain": [
       "IntSlider(value=0)"
      ]
     },
     "metadata": {},
     "output_type": "display_data"
    }
   ],
   "source": [
    "out.append_display_data(ipw.IntSlider())"
   ]
  },
  {
   "cell_type": "code",
   "execution_count": 35,
   "metadata": {},
   "outputs": [],
   "source": [
    "out.clear_output()"
   ]
  },
  {
   "cell_type": "code",
   "execution_count": 36,
   "metadata": {},
   "outputs": [],
   "source": [
    "@out.capture()\n",
    "def take_name(name):\n",
    "    out.clear_output()\n",
    "    print(f\"Your project name is {name}\")\n"
   ]
  },
  {
   "cell_type": "code",
   "execution_count": 37,
   "metadata": {},
   "outputs": [],
   "source": [
    "take_name(\"Eric\")"
   ]
  },
  {
   "cell_type": "code",
   "execution_count": 38,
   "metadata": {},
   "outputs": [
    {
     "data": {
      "application/vnd.jupyter.widget-view+json": {
       "model_id": "4da7b225fcd24657b8d7bfeb2704c6f0",
       "version_major": 2,
       "version_minor": 0
      },
      "text/plain": [
       "Button(description='click me', layout=Layout(width='300px'), style=ButtonStyle())"
      ]
     },
     "metadata": {},
     "output_type": "display_data"
    }
   ],
   "source": [
    "debug_view = ipw.Output(layout={'border': '1px solid black'})\n",
    "\n",
    "@debug_view.capture(clear_output=True)\n",
    "def bad_callback(event):\n",
    "    print('This is not working!')\n",
    "    return 1.0/1.0\n",
    "\n",
    "button = ipw.Button(\n",
    "    description='click me',\n",
    "    layout={'width': '300px'}\n",
    ")\n",
    "button.on_click(bad_callback)\n",
    "button"
   ]
  },
  {
   "cell_type": "code",
   "execution_count": 39,
   "metadata": {},
   "outputs": [
    {
     "data": {
      "application/vnd.jupyter.widget-view+json": {
       "model_id": "ea23a19703b646c084053e86d0771187",
       "version_major": 2,
       "version_minor": 0
      },
      "text/plain": [
       "Output(layout=Layout(border='1px solid black'))"
      ]
     },
     "metadata": {},
     "output_type": "display_data"
    }
   ],
   "source": [
    "debug_view"
   ]
  },
  {
   "cell_type": "code",
   "execution_count": 40,
   "metadata": {},
   "outputs": [],
   "source": [
    "y = ipw.Text()"
   ]
  },
  {
   "cell_type": "code",
   "execution_count": 41,
   "metadata": {},
   "outputs": [
    {
     "data": {
      "application/vnd.jupyter.widget-view+json": {
       "model_id": "dc493b0cae194ace8320b5884f76be5d",
       "version_major": 2,
       "version_minor": 0
      },
      "text/plain": [
       "HBox(children=(Label(value='This is going to  be a longer box I hope this fits'), Text(value='')))"
      ]
     },
     "metadata": {},
     "output_type": "display_data"
    }
   ],
   "source": [
    "ipw.HBox([ipw.Label('This is going to  be a longer box I hope this fits'), y])"
   ]
  },
  {
   "cell_type": "code",
   "execution_count": 42,
   "metadata": {},
   "outputs": [
    {
     "data": {
      "text/plain": [
       "''"
      ]
     },
     "execution_count": 42,
     "metadata": {},
     "output_type": "execute_result"
    }
   ],
   "source": [
    "y.value"
   ]
  },
  {
   "cell_type": "code",
   "execution_count": 43,
   "metadata": {},
   "outputs": [],
   "source": [
    "out = ipw.Output()"
   ]
  },
  {
   "cell_type": "code",
   "execution_count": 44,
   "metadata": {},
   "outputs": [
    {
     "data": {
      "application/vnd.jupyter.widget-view+json": {
       "model_id": "b9a1da49ce224ff4b6768b16ae0e0712",
       "version_major": 2,
       "version_minor": 0
      },
      "text/plain": [
       "Output()"
      ]
     },
     "metadata": {},
     "output_type": "display_data"
    }
   ],
   "source": [
    "out"
   ]
  },
  {
   "cell_type": "code",
   "execution_count": 45,
   "metadata": {},
   "outputs": [],
   "source": [
    "with out:\n",
    "    display(ipw.IntSlider())\n",
    "    display(ipw.Text())"
   ]
  },
  {
   "cell_type": "code",
   "execution_count": 46,
   "metadata": {},
   "outputs": [],
   "source": [
    "proj_dict = {}"
   ]
  },
  {
   "cell_type": "markdown",
   "metadata": {},
   "source": [
    "@out.capture()\n",
    "def build_proj_dict(proj):\n",
    "    out.clear_output()\n",
    "    proj_dict[proj] = {}\n",
    "    print(proj_dict)\n",
    "    return proj_dict"
   ]
  },
  {
   "cell_type": "code",
   "execution_count": 47,
   "metadata": {},
   "outputs": [
    {
     "data": {
      "application/vnd.jupyter.widget-view+json": {
       "model_id": "89243448513147789a4c390ef020ce51",
       "version_major": 2,
       "version_minor": 0
      },
      "text/plain": [
       "Text(value='')"
      ]
     },
     "metadata": {},
     "output_type": "display_data"
    }
   ],
   "source": [
    "proj = ipw.Text()\n",
    "proj"
   ]
  },
  {
   "cell_type": "code",
   "execution_count": 50,
   "metadata": {},
   "outputs": [],
   "source": [
    "# build_proj_dict(proj.value)"
   ]
  },
  {
   "cell_type": "code",
   "execution_count": 51,
   "metadata": {},
   "outputs": [],
   "source": [
    "a = [1, 2, 3]\n",
    "b = [4, 5, 6]\n",
    "c = [7, 8, 9]"
   ]
  },
  {
   "cell_type": "markdown",
   "metadata": {},
   "source": [
    "\n",
    "def f(proj, plate):\n",
    "    plates = plate.strip().split(',')\n",
    "    inner = dict(plate_list = plates)\n",
    "    proj_dict[proj] = inner\n",
    "    print(proj_dict)\n",
    "    line = px.line(x=a, y=b, title=proj)\n",
    "    return line\n",
    "interact(f, proj=[\"One\", \"Two\"]);"
   ]
  },
  {
   "cell_type": "markdown",
   "metadata": {},
   "source": [
    "ipw.interact_manual(f, ipw.HBox([proj=ipw.Text(), plate=ipw.Text()]));"
   ]
  },
  {
   "cell_type": "markdown",
   "metadata": {},
   "source": [
    "plates = ipw.Text()\n",
    "plate_lab = ipw.Label(\"Enter plates as 'P1-1, P1-2 or P1, P2'\")\n",
    "v_box_2 = ipw.VBox([plate_lab, plates])\n",
    "proj_name = ipw.Text()\n",
    "proj_lab = ipw.Label(\"Enter project name, e.g. SSF00XXX\")\n",
    "v_box_1 = ipw.VBox([proj_lab, proj_name])\n",
    "dis_box = ipw.HBox([v_box_1, v_box_2])\n",
    "dis_box\n",
    "def f(proj_name, plates):\n",
    "    plates = plates.strip().split(',')\n",
    "    proj_dict[proj_name] = plates\n",
    "    print(proj_dict)\n",
    "\n",
    "dis_box\n",
    "\n"
   ]
  },
  {
   "cell_type": "code",
   "execution_count": 54,
   "metadata": {},
   "outputs": [],
   "source": [
    "# dis_box"
   ]
  },
  {
   "cell_type": "code",
   "execution_count": 55,
   "metadata": {},
   "outputs": [],
   "source": [
    "# # @ipw.interact_manual(proj_name, plates)\n",
    "# def f(**kwargs):\n",
    "#     plates = plates.strip().split(',')\n",
    "#     proj_dict[proj_name] = plates\n",
    "#     print(proj_dict)\n",
    "\n",
    "\n",
    "# out = ipw.interactive(f, {'manual': True}, {'proj_name': proj_name.value, 'plates': plates.value});\n",
    "# display(dis_box, out)"
   ]
  },
  {
   "cell_type": "code",
   "execution_count": 17,
   "metadata": {},
   "outputs": [],
   "source": [
    "a = pd.DataFrame([[1, 2, 3], [4, 5, 6], [5, 25, 125]], columns=[\"A\", \"B\", \"C\"])"
   ]
  },
  {
   "cell_type": "code",
   "execution_count": 18,
   "metadata": {},
   "outputs": [],
   "source": [
    "out = ipw.Output()"
   ]
  },
  {
   "cell_type": "code",
   "execution_count": 27,
   "metadata": {},
   "outputs": [
    {
     "data": {
      "application/vnd.jupyter.widget-view+json": {
       "model_id": "51a896d412b9404a8b2d21476dc27b61",
       "version_major": 2,
       "version_minor": 0
      },
      "text/plain": [
       "interactive(children=(Dropdown(description='x', options=('A', 'B', 'C'), value='A'), Dropdown(description='y',…"
      ]
     },
     "metadata": {},
     "output_type": "display_data"
    }
   ],
   "source": [
    "\n",
    "x = ipw.Dropdown(options=list(a.columns), value=\"A\")\n",
    "y = ipw.Dropdown(options=list(a.columns), value=\"B\")\n",
    "# @out.capture()\n",
    "def create_chart(x, y):\n",
    "    line = px.line(a, x=x, y=y)\n",
    "    line.show() \n",
    "    \n",
    "plot = ipw.interact(create_chart, x=x, y=y)\n",
    "plot;"
   ]
  },
  {
   "cell_type": "code",
   "execution_count": 26,
   "metadata": {},
   "outputs": [
    {
     "data": {
      "application/vnd.jupyter.widget-view+json": {
       "model_id": "347d0002f562495996e578c47c68826b",
       "version_major": 2,
       "version_minor": 0
      },
      "text/plain": [
       "interactive(children=(Dropdown(description='x', options=('A', 'B', 'C'), value='A'), Dropdown(description='y',…"
      ]
     },
     "metadata": {},
     "output_type": "display_data"
    }
   ],
   "source": [
    "plot"
   ]
  },
  {
   "cell_type": "code",
   "execution_count": 92,
   "metadata": {},
   "outputs": [
    {
     "data": {
      "application/vnd.jupyter.widget-view+json": {
       "model_id": "e685a159002447128edf4020b6561143",
       "version_major": 2,
       "version_minor": 0
      },
      "text/plain": [
       "Output()"
      ]
     },
     "metadata": {},
     "output_type": "display_data"
    },
    {
     "data": {
      "application/vnd.jupyter.widget-view+json": {
       "model_id": "24a6729f49694d18a8bbe4c96d531577",
       "version_major": 2,
       "version_minor": 0
      },
      "text/plain": [
       "interactive(children=(Text(value='', description='Text'), IntSlider(value=0, description='Number'), Output()),…"
      ]
     },
     "metadata": {},
     "output_type": "display_data"
    }
   ],
   "source": [
    "\n",
    "t = ipw.Text(description=\"\")\n",
    "i = ipw.IntSlider()\n",
    "r = ipw.HBox([ipw.Label('Enter Text:'), t ])\n",
    "x = ipw.HBox([ipw.Label('Enter Number:'), i])\n",
    "z = ipw.VBox([r,x])\n",
    "\n",
    "outs = ipw.Output()\n",
    "\n",
    "@outs.capture()\n",
    "def visual(Text, Number):\n",
    "    outs.clear_output()\n",
    "    print(f'text: {Text}, number: {Number}')\n",
    "\n",
    "ans = ipw.interactive(visual, Text=t, Number=i)\n",
    "display(outs, ans);"
   ]
  },
  {
   "cell_type": "code",
   "execution_count": 82,
   "metadata": {},
   "outputs": [
    {
     "data": {
      "application/vnd.jupyter.widget-view+json": {
       "model_id": "f6bb5149fa5342bb87c7dd3761e87b47",
       "version_major": 2,
       "version_minor": 0
      },
      "text/plain": [
       "Button(button_style='success', description='Click Me', style=ButtonStyle())"
      ]
     },
     "metadata": {},
     "output_type": "display_data"
    },
    {
     "name": "stdout",
     "output_type": "stream",
     "text": [
      "Text: This is a song about somebody else, Number: 14\n",
      "Text: , Number: 0\n",
      "Text: , Number: 0\n",
      "Text: , Number: 0\n",
      "Text: , Number: 0\n",
      "Text: , Number: 0\n",
      "Text: My text, Number: 51\n"
     ]
    }
   ],
   "source": [
    "add_button = ipw.Button(description='Click Me', button_style='success')\n",
    "\n",
    "def print_info(event):\n",
    "    print(f'Text: {t.value}, Number: {i.value}')\n",
    "\n",
    "add_button.on_click(print_info)\n",
    "add_button"
   ]
  },
  {
   "cell_type": "code",
   "execution_count": null,
   "metadata": {},
   "outputs": [],
   "source": []
  },
  {
   "cell_type": "code",
   "execution_count": null,
   "metadata": {},
   "outputs": [],
   "source": []
  }
 ],
 "metadata": {
  "kernelspec": {
   "display_name": "Python 3",
   "language": "python",
   "name": "python3"
  },
  "language_info": {
   "codemirror_mode": {
    "name": "ipython",
    "version": 3
   },
   "file_extension": ".py",
   "mimetype": "text/x-python",
   "name": "python",
   "nbconvert_exporter": "python",
   "pygments_lexer": "ipython3",
   "version": "3.8.3"
  }
 },
 "nbformat": 4,
 "nbformat_minor": 4
}
